{
 "cells": [
  {
   "cell_type": "raw",
   "id": "5c38c955-20dc-424f-af85-609f1e9cb5ce",
   "metadata": {
    "tags": []
   },
   "source": [
    "Лабораторная работа №1\n",
    "Выполнил студент группы БСТ2003 Петров Иван\n",
    "Задание №1\n",
    "Описание условия задания"
   ]
  },
  {
   "cell_type": "code",
   "execution_count": 3,
   "id": "05678341-e70e-4d1a-b6a8-d1308ac20b39",
   "metadata": {},
   "outputs": [
    {
     "name": "stdout",
     "output_type": "stream",
     "text": [
      "Hello, World!\n"
     ]
    }
   ],
   "source": [
    "print(\"Hello, World!\")"
   ]
  },
  {
   "cell_type": "code",
   "execution_count": 6,
   "id": "21bd64ac-90f7-4c9b-9aca-820e04c2b55c",
   "metadata": {},
   "outputs": [],
   "source": [
    "import random\n",
    "def generate_matrix(n = 50, m = 50, min_limit = -250, max_limit = 1011):\n",
    "    mas = []\n",
    "    mas2 = []\n",
    "    for j in range(n):\n",
    "        mas = []\n",
    "        for i in range(m):\n",
    "            mas.append(random.randint(min_limit, max_limit))\n",
    "        mas2.append(mas)\n",
    "    return mas2\n"
   ]
  },
  {
   "cell_type": "code",
   "execution_count": 10,
   "id": "5d201e44-0a7c-403c-b4aa-1f2f3f2e2de0",
   "metadata": {},
   "outputs": [
    {
     "name": "stdout",
     "output_type": "stream",
     "text": [
      "[[-745, -205, -161, 409, 132], [-701, -730, 583, -321, -280], [27, -16, 72, 908, -759], [-721, -532, -950, 49, 234], [-316, 535, 561, 333, -358]]\n"
     ]
    }
   ],
   "source": [
    "print(generate_matrix(5,5,-1000,1000))"
   ]
  },
  {
   "cell_type": "code",
   "execution_count": 24,
   "id": "21949627-acd5-4a4c-aa8d-d09664cb4904",
   "metadata": {},
   "outputs": [
    {
     "name": "stdout",
     "output_type": "stream",
     "text": [
      "[[-629, -340, -245, 790, 958], [-808, -31, 291, 717, 969], [-843, -445, 245, 744, 958], [-974, -850, 20, 780, 829], [-398, -211, 262, 407, 963]]\n",
      "[[-629, -340, -245, 790, 958], [-808, -31, 291, 717, 969], [-843, -445, 245, 744, 958], [-974, -850, 20, 780, 829], [-398, -211, 262, 407, 963]]\n",
      "[[-629, -340, -245, 790, 958], [-808, -31, 291, 717, 969], [-843, -445, 245, 744, 958], [-974, -850, 20, 780, 829], [-398, -211, 262, 407, 963]]\n",
      "[[-629, -340, -245, 790, 958], [-808, -31, 291, 717, 969], [-843, -445, 245, 744, 958], [-974, -850, 20, 780, 829], [-398, -211, 262, 407, 963]]\n",
      "[[-629, -340, -245, 790, 958], [-808, -31, 291, 717, 969], [-843, -445, 245, 744, 958], [-974, -850, 20, 780, 829], [-398, -211, 262, 407, 963]]\n",
      "[[-629, -340, -245, 790, 958], [-808, -31, 291, 717, 969], [-843, -445, 245, 744, 958], [-974, -850, 20, 780, 829], [-398, -211, 262, 407, 963]]\n"
     ]
    }
   ],
   "source": [
    "def bubbleSort(matrix):\n",
    "    for i_matrix in range(len(matrix)):\n",
    "        nums = matrix[i_matrix]\n",
    "        swapped = True\n",
    "        while swapped:\n",
    "            swapped = False\n",
    "            for i in range(len(nums) - 1):\n",
    "                if nums[i] > nums[i + 1]:\n",
    "                    nums[i], nums[i + 1] = nums[i + 1], nums[i]\n",
    "                    swapped = True\n",
    "        matrix[i_matrix] = nums\n",
    "    return matrix\n",
    "def selectionSort(matrix):\n",
    "    for i_matrix in range(len(matrix)):\n",
    "        nums = matrix[i_matrix]\n",
    "        for i in range(len(nums)):\n",
    "            lowest_value_index = i\n",
    "            for j in range(i + 1, len(nums)):\n",
    "                if nums[j] < nums[lowest_value_index]:\n",
    "                    lowest_value_index = j\n",
    "            nums[i], nums[lowest_value_index] = nums[lowest_value_index], nums[i]\n",
    "        matrix[i_matrix] = nums\n",
    "    return matrix\n",
    "def insertionSort(matrix):\n",
    "    for i_matrix in range(len(matrix)):\n",
    "        nums = matrix[i_matrix]\n",
    "        for i in range(1, len(nums)):\n",
    "            item_to_insert = nums[i]\n",
    "            j = i - 1\n",
    "            while j >= 0 and nums[j] > item_to_insert:\n",
    "                nums[j + 1] = nums[j]\n",
    "                j -= 1\n",
    "            nums[j + 1] = item_to_insert\n",
    "        matrix[i_matrix] = nums\n",
    "    return matrix\n",
    "def shellSort(matrix):\n",
    "    for i_matrix in range(len(matrix)):\n",
    "        nums = matrix[i_matrix]\n",
    "        gap = len(nums)\n",
    "        while gap > 0:\n",
    "            for iIndex in range(gap, len(nums)):\n",
    "                temp = nums[iIndex]\n",
    "                jIndex = iIndex\n",
    "                while jIndex >= gap and nums[jIndex - gap] > temp:\n",
    "                    nums[jIndex] = nums[jIndex - gap]\n",
    "                    jIndex -= gap\n",
    "                nums[jIndex] = temp\n",
    "            gap //= 2\n",
    "        matrix[i_matrix] = nums\n",
    "    return matrix\n",
    "def heapify(nums, heap_size, root_index):\n",
    "    largest = root_index\n",
    "    left_child = (2 * root_index) + 1\n",
    "    right_child = (2 * root_index) + 2\n",
    "    if left_child < heap_size and nums[left_child] > nums[largest]:\n",
    "        largest = left_child\n",
    "    if right_child < heap_size and nums[right_child] > nums[largest]:\n",
    "        largest = right_child\n",
    "    if largest != root_index:\n",
    "        nums[root_index], nums[largest] = nums[largest], nums[root_index]\n",
    "        heapify(nums, heap_size, largest)\n",
    "def heapSort(matrix):\n",
    "    for i_matrix in range(len(matrix)):\n",
    "        nums = matrix[i_matrix]\n",
    "        n = len(nums)\n",
    "        for i in range(n, -1, -1):\n",
    "            heapify(nums, n, i)\n",
    "        for i in range(n - 1, 0, -1):\n",
    "            nums[i], nums[0] = nums[0], nums[i]\n",
    "            heapify(nums, i, 0)\n",
    "        matrix[i_matrix] = nums\n",
    "    return matrix\n",
    "def partition(nums, low, high):\n",
    "    pivot = nums[(low + high) // 2]\n",
    "    i = low - 1\n",
    "    j = high + 1\n",
    "    while True:\n",
    "        i += 1\n",
    "        while nums[i] < pivot:\n",
    "            i += 1\n",
    "        j -= 1\n",
    "        while nums[j] > pivot:\n",
    "            j -= 1\n",
    "        if i >= j:\n",
    "            return j\n",
    "        nums[i], nums[j] = nums[j], nums[i]\n",
    "def quickSort(matrix):\n",
    "    def quick_sort(items, low, high):\n",
    "        if low < high:\n",
    "            split_index = partition(items, low, high)\n",
    "            quick_sort(items, low, split_index)\n",
    "            quick_sort(items, split_index + 1, high)\n",
    "    for i_matrix in range(len(matrix)):\n",
    "        nums = matrix[i_matrix]\n",
    "        quick_sort(nums, 0, len(nums) - 1)\n",
    "        matrix[i_matrix] = nums\n",
    "    return matrix\n",
    "#Нормальную турнирную не нашел, а эта не работает :(\n",
    "def tournamentSortStart(num):\n",
    "    tree = [None] * 2 * (len(num) + len(num) % 2)\n",
    "    index = len(num) - len(num) - len(num) % 2\n",
    "    for i, v in enumerate(num):\n",
    "        tree[index + i] = (i, v)\n",
    "    for j in range(len(num)):\n",
    "        n = len(num)\n",
    "        index = len(tree) - len(num) - len(num) % 2\n",
    "        while index > -1:\n",
    "            n = (n + 1) // 2\n",
    "            for i in range(n):\n",
    "                i = max(index + i * 2, 1)\n",
    "                if tree[i] != None and tree[i + 1] != None:\n",
    "                    if tree[i][1] < tree[i + 1][1]:\n",
    "                        tree[i // 2] = tree[i]\n",
    "                    else:\n",
    "                        tree[i // 2] = tree[i + 1]\n",
    "                else:\n",
    "                    tree[i // 2] = tree[i] if tree[i] != None else tree[i + 1]\n",
    "            index -= n\n",
    "        index, x = tree[0]\n",
    "        num[j] = x\n",
    "        tree[len(tree) - len(num) - len(num) % 2 + index] = None\n",
    "def tournamentSort(matrix):\n",
    "    for i_matrix in range(len(matrix)):\n",
    "        nums = matrix[i_matrix]\n",
    "        num = nums.copy()\n",
    "        for i in range(len(num)):\n",
    "            tournamentSortStart(num)\n",
    "        matrix[i_matrix] = num\n",
    "    return matrix\n",
    "matrix = generate_matrix(5,5,-1000,1000)\n",
    "print(bubbleSort(matrix))\n",
    "print(selectionSort(matrix))\n",
    "print(insertionSort(matrix))\n",
    "print(shellSort(matrix))\n",
    "print(heapSort(matrix))\n",
    "print(quickSort(matrix))\n",
    "#print(tournamentSort(matrix))"
   ]
  },
  {
   "cell_type": "code",
   "execution_count": null,
   "id": "c6a18dbd-d6e3-4cd4-b9e9-0eebc5a01d5c",
   "metadata": {},
   "outputs": [],
   "source": []
  }
 ],
 "metadata": {
  "kernelspec": {
   "display_name": "Python 3 (ipykernel)",
   "language": "python",
   "name": "python3"
  },
  "language_info": {
   "codemirror_mode": {
    "name": "ipython",
    "version": 3
   },
   "file_extension": ".py",
   "mimetype": "text/x-python",
   "name": "python",
   "nbconvert_exporter": "python",
   "pygments_lexer": "ipython3",
   "version": "3.8.1"
  }
 },
 "nbformat": 4,
 "nbformat_minor": 5
}
