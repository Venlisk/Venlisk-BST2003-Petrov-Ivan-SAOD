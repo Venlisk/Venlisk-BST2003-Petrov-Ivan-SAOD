{
 "cells": [
  {
   "cell_type": "raw",
   "id": "5c38c955-20dc-424f-af85-609f1e9cb5ce",
   "metadata": {
    "tags": []
   },
   "source": [
    "Лабораторная работа №1\n",
    "Выполнил студент группы БСТ2003 Петров Иван\n",
    "Задание №1\n",
    "Описание условия задания"
   ]
  },
  {
   "cell_type": "code",
   "execution_count": 1,
   "id": "05678341-e70e-4d1a-b6a8-d1308ac20b39",
   "metadata": {},
   "outputs": [
    {
     "name": "stdout",
     "output_type": "stream",
     "text": [
      "Hello, World!\n"
     ]
    }
   ],
   "source": [
    "print(\"Hello, World!\")"
   ]
  },
  {
   "cell_type": "code",
   "execution_count": 2,
   "id": "21bd64ac-90f7-4c9b-9aca-820e04c2b55c",
   "metadata": {},
   "outputs": [],
   "source": [
    "import random\n",
    "def generate_matrix(n = 50, m = 50, min_limit = -250, max_limit = 1011):\n",
    "    mas = []\n",
    "    mas2 = []\n",
    "    for j in range(n):\n",
    "        mas = []\n",
    "        for i in range(m):\n",
    "            mas.append(random.randint(min_limit, max_limit))\n",
    "        mas2.append(mas)\n",
    "    return mas2\n"
   ]
  },
  {
   "cell_type": "code",
   "execution_count": 3,
   "id": "5d201e44-0a7c-403c-b4aa-1f2f3f2e2de0",
   "metadata": {},
   "outputs": [
    {
     "name": "stdout",
     "output_type": "stream",
     "text": [
      "[[564, 622, -464, 888, -316], [589, 520, 502, 292, -632], [-186, 685, -956, -563, 476], [-964, -437, -451, 70, -470], [-722, -433, 923, 114, -919]]\n"
     ]
    }
   ],
   "source": [
    "print(generate_matrix(5,5,-1000,1000))"
   ]
  },
  {
   "cell_type": "code",
   "execution_count": 4,
   "id": "21949627-acd5-4a4c-aa8d-d09664cb4904",
   "metadata": {},
   "outputs": [
    {
     "name": "stdout",
     "output_type": "stream",
     "text": [
      "[[-898, -329, 326, 623, 980], [-828, -276, -156, 471, 575], [60, 426, 470, 532, 630], [-939, -554, -385, -169, 938], [-431, -414, 282, 794, 966]]\n",
      "[[-898, -329, 326, 623, 980], [-828, -276, -156, 471, 575], [60, 426, 470, 532, 630], [-939, -554, -385, -169, 938], [-431, -414, 282, 794, 966]]\n",
      "[[-898, -329, 326, 623, 980], [-828, -276, -156, 471, 575], [60, 426, 470, 532, 630], [-939, -554, -385, -169, 938], [-431, -414, 282, 794, 966]]\n",
      "[[-898, -329, 326, 623, 980], [-828, -276, -156, 471, 575], [60, 426, 470, 532, 630], [-939, -554, -385, -169, 938], [-431, -414, 282, 794, 966]]\n",
      "[[-898, -329, 326, 623, 980], [-828, -276, -156, 471, 575], [60, 426, 470, 532, 630], [-939, -554, -385, -169, 938], [-431, -414, 282, 794, 966]]\n",
      "[[-898, -329, 326, 623, 980], [-828, -276, -156, 471, 575], [60, 426, 470, 532, 630], [-939, -554, -385, -169, 938], [-431, -414, 282, 794, 966]]\n",
      "[[-898, -329, 326, 623, 980], [-828, -276, -156, 471, 575], [60, 426, 470, 532, 630], [-939, -554, -385, -169, 938], [-431, -414, 282, 794, 966]]\n"
     ]
    }
   ],
   "source": [
    "import time\n",
    "\n",
    "def bubbleSort(matrix):\n",
    "    for i_matrix in range(len(matrix)):\n",
    "        nums = matrix[i_matrix]\n",
    "        swapped = True\n",
    "        while swapped:\n",
    "            swapped = False\n",
    "            for i in range(len(nums) - 1):\n",
    "                if nums[i] > nums[i + 1]:\n",
    "                    nums[i], nums[i + 1] = nums[i + 1], nums[i]\n",
    "                    swapped = True\n",
    "        matrix[i_matrix] = nums\n",
    "    return matrix\n",
    "def selectionSort(matrix):\n",
    "    for i_matrix in range(len(matrix)):\n",
    "        nums = matrix[i_matrix]\n",
    "        for i in range(len(nums)):\n",
    "            lowest_value_index = i\n",
    "            for j in range(i + 1, len(nums)):\n",
    "                if nums[j] < nums[lowest_value_index]:\n",
    "                    lowest_value_index = j\n",
    "            nums[i], nums[lowest_value_index] = nums[lowest_value_index], nums[i]\n",
    "        matrix[i_matrix] = nums\n",
    "    return matrix\n",
    "def insertionSort(matrix):\n",
    "    for i_matrix in range(len(matrix)):\n",
    "        nums = matrix[i_matrix]\n",
    "        for i in range(1, len(nums)):\n",
    "            item_to_insert = nums[i]\n",
    "            j = i - 1\n",
    "            while j >= 0 and nums[j] > item_to_insert:\n",
    "                nums[j + 1] = nums[j]\n",
    "                j -= 1\n",
    "            nums[j + 1] = item_to_insert\n",
    "        matrix[i_matrix] = nums\n",
    "    return matrix\n",
    "def shellSort(matrix):\n",
    "    for i_matrix in range(len(matrix)):\n",
    "        nums = matrix[i_matrix]\n",
    "        gap = len(nums)\n",
    "        while gap > 0:\n",
    "            for iIndex in range(gap, len(nums)):\n",
    "                temp = nums[iIndex]\n",
    "                jIndex = iIndex\n",
    "                while jIndex >= gap and nums[jIndex - gap] > temp:\n",
    "                    nums[jIndex] = nums[jIndex - gap]\n",
    "                    jIndex -= gap\n",
    "                nums[jIndex] = temp\n",
    "            gap //= 2\n",
    "        matrix[i_matrix] = nums\n",
    "    return matrix\n",
    "def heapify(nums, heap_size, root_index):\n",
    "    largest = root_index\n",
    "    left_child = (2 * root_index) + 1\n",
    "    right_child = (2 * root_index) + 2\n",
    "    if left_child < heap_size and nums[left_child] > nums[largest]:\n",
    "        largest = left_child\n",
    "    if right_child < heap_size and nums[right_child] > nums[largest]:\n",
    "        largest = right_child\n",
    "    if largest != root_index:\n",
    "        nums[root_index], nums[largest] = nums[largest], nums[root_index]\n",
    "        heapify(nums, heap_size, largest)\n",
    "def heapSort(matrix):\n",
    "    for i_matrix in range(len(matrix)):\n",
    "        nums = matrix[i_matrix]\n",
    "        n = len(nums)\n",
    "        for i in range(n, -1, -1):\n",
    "            heapify(nums, n, i)\n",
    "        for i in range(n - 1, 0, -1):\n",
    "            nums[i], nums[0] = nums[0], nums[i]\n",
    "            heapify(nums, i, 0)\n",
    "        matrix[i_matrix] = nums\n",
    "    return matrix\n",
    "def partition(nums, low, high):\n",
    "    pivot = nums[(low + high) // 2]\n",
    "    i = low - 1\n",
    "    j = high + 1\n",
    "    while True:\n",
    "        i += 1\n",
    "        while nums[i] < pivot:\n",
    "            i += 1\n",
    "        j -= 1\n",
    "        while nums[j] > pivot:\n",
    "            j -= 1\n",
    "        if i >= j:\n",
    "            return j\n",
    "        nums[i], nums[j] = nums[j], nums[i]\n",
    "def quickSort(matrix):\n",
    "    def quick_sort(items, low, high):\n",
    "        if low < high:\n",
    "            split_index = partition(items, low, high)\n",
    "            quick_sort(items, low, split_index)\n",
    "            quick_sort(items, split_index + 1, high)\n",
    "    for i_matrix in range(len(matrix)):\n",
    "        nums = matrix[i_matrix]\n",
    "        quick_sort(nums, 0, len(nums) - 1)\n",
    "        matrix[i_matrix] = nums\n",
    "    return matrix\n",
    "def tournamentSortStart(matrix):\n",
    "    tree = [None] * 2 * (len(matrix) + len(matrix) % 2)\n",
    "    index = len(tree) - len(matrix) - len(matrix) % 2\n",
    "    for i, v in enumerate(matrix):\n",
    "        tree[index + i] = (i, v)\n",
    "    for j in range(len(matrix)):\n",
    "        n = len(matrix)\n",
    "        index = len(tree) - len(matrix) - len(matrix) % 2\n",
    "        while index > -1:\n",
    "            n = (n + 1) // 2\n",
    "            for i in range(n):\n",
    "                i = max(index + i * 2, 1)\n",
    "                if tree[i] != None and tree[i + 1] != None:\n",
    "                    if tree[i][1] < tree[i + 1][1]:\n",
    "                        tree[i // 2] = tree[i]\n",
    "                    else:\n",
    "                        tree[i // 2] = tree[i + 1]\n",
    "                else:\n",
    "                    tree[i // 2] = tree[i] if tree[i] != None else tree[i + 1]\n",
    "            index -= n\n",
    "        index, x = tree[0]\n",
    "        matrix[j] = x\n",
    "        tree[len(tree) - len(matrix) - len(matrix) % 2 + index] = None\n",
    "def tournamentSort(matrix):\n",
    "    for i in range(len(matrix)):\n",
    "        tournamentSortStart(matrix[i])\n",
    "    return matrix\n",
    "matrix = generate_matrix(5,5,-1000,1000)\n",
    "print(bubbleSort(matrix))\n",
    "print(selectionSort(matrix))\n",
    "print(insertionSort(matrix))\n",
    "print(shellSort(matrix))\n",
    "print(heapSort(matrix))\n",
    "print(quickSort(matrix))\n",
    "print(tournamentSort(matrix))"
   ]
  },
  {
   "cell_type": "code",
   "execution_count": 6,
   "id": "c6a18dbd-d6e3-4cd4-b9e9-0eebc5a01d5c",
   "metadata": {},
   "outputs": [
    {
     "name": "stdout",
     "output_type": "stream",
     "text": [
      "Время работы сортировки обменом:  0.15820550918579102\n",
      "Время работы сортировки выбором:  0.03988289833068848\n",
      "Время работы сортировки вставками:  0.001993417739868164\n",
      "Время работы сортировки Шелла:  0.008498191833496094\n",
      "Время работы пирамидальной сортировки:  0.03593254089355469\n",
      "Время работы быстрой сортировки:  0.010943174362182617\n",
      "Время работы турнирной сортировки:  0.6819052696228027\n"
     ]
    }
   ],
   "source": [
    "matrix = generate_matrix(100,100,-1000,1000)\n",
    "start_time = time.time()\n",
    "bubbleSort(matrix)\n",
    "print(\"Время работы сортировки обменом: \", (time.time()-start_time))\n",
    "start_time = time.time()\n",
    "selectionSort(matrix)\n",
    "print(\"Время работы сортировки выбором: \", (time.time()-start_time))\n",
    "start_time = time.time()\n",
    "insertionSort(matrix)\n",
    "print(\"Время работы сортировки вставками: \", (time.time()-start_time))\n",
    "start_time = time.time()\n",
    "shellSort(matrix)\n",
    "print(\"Время работы сортировки Шелла: \", (time.time()-start_time))\n",
    "start_time = time.time()\n",
    "heapSort(matrix)\n",
    "print(\"Время работы пирамидальной сортировки: \", (time.time()-start_time))\n",
    "start_time = time.time()\n",
    "quickSort(matrix)\n",
    "print(\"Время работы быстрой сортировки: \", (time.time()-start_time))\n",
    "start_time = time.time()\n",
    "tournamentSort(matrix)\n",
    "print(\"Время работы турнирной сортировки: \", (time.time()-start_time))"
   ]
  },
  {
   "cell_type": "code",
   "execution_count": null,
   "id": "7f3accba-942a-4a8d-a59b-5da27e46d309",
   "metadata": {},
   "outputs": [],
   "source": []
  }
 ],
 "metadata": {
  "kernelspec": {
   "display_name": "Python 3 (ipykernel)",
   "language": "python",
   "name": "python3"
  },
  "language_info": {
   "codemirror_mode": {
    "name": "ipython",
    "version": 3
   },
   "file_extension": ".py",
   "mimetype": "text/x-python",
   "name": "python",
   "nbconvert_exporter": "python",
   "pygments_lexer": "ipython3",
   "version": "3.8.1"
  }
 },
 "nbformat": 4,
 "nbformat_minor": 5
}
